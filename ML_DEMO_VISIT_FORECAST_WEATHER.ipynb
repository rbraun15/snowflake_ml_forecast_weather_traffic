{
 "metadata": {
  "kernelspec": {
   "display_name": "Streamlit Notebook",
   "name": "streamlit"
  }
 },
 "nbformat_minor": 5,
 "nbformat": 4,
 "cells": [
  {
   "cell_type": "markdown",
   "id": "ce45a14b-7a88-4ca4-84a9-b2d827c7e2f7",
   "metadata": {
    "name": "cell3",
    "collapsed": false,
    "resultHeight": 339
   },
   "source": "**Simple demo to show ML Forecasting**\n- Predict visitor/traffic volume based on weather forecast\n- Knowing predicted volume can help with scheduling services such as police, parking, traffic, vendors, etc...\n\n\n\n**What's Included**\n- Creation of Historical Data - Traffic and Weather\n- Creation of Forecast/Future Data\n- Clickpath to Generate Model in AI & ML Studio\n- Model Creation/Setup SQL\n- Model Execution SQL\n- Model Output Review SQL\n "
  },
  {
   "cell_type": "markdown",
   "id": "3775908f-ca36-4846-8f38-5adca39217f2",
   "metadata": {
    "name": "cell1",
    "collapsed": false,
    "resultHeight": 182
   },
   "source": "**Creation of Historical Data - Traffic and Weather**\n\nMarketplace weather data\n- GLOBAL_WEATHER__CLIMATE_DATA_FOR_BI.STANDARD_TILE.HISTORY_DAY\n- to get weather data - Snowsight > Data Products > Marketplace > Global Weather & Climate Data for BI\n- this weather data does not include all postal_codes, if customizing verify your postal_code is in the dataset\n\n\n"
  },
  {
   "cell_type": "code",
   "id": "c695373e-ac74-4b62-a1f1-08206cbd5c81",
   "metadata": {
    "language": "sql",
    "name": "CREATE_WEATHER",
    "collapsed": false,
    "resultHeight": 112
   },
   "source": "-- create weather table for same dates as above traffic and same zip code\nCREATE or replace TABLE SNOWDEV.RAW.WEATHER AS \nselect date_valid_std,POSTAL_CODE, MAX_TEMPERATURE_AIR_2M_F,\nAVG_TEMPERATURE_AIR_2M_F,\nTOT_PRECIPITATION_IN,\nAVG_CLOUD_COVER_TOT_PCT\nfrom GLOBAL_WEATHER__CLIMATE_DATA_FOR_BI.STANDARD_TILE.HISTORY_DAY where postal_code = '33163'  ;",
   "execution_count": null,
   "outputs": []
  },
  {
   "cell_type": "code",
   "id": "8d50cbf4-0c8d-4950-86cb-114990437ac9",
   "metadata": {
    "language": "sql",
    "name": "CREATE_VEHICLE_TRAFFIC",
    "resultHeight": 112,
    "collapsed": false
   },
   "source": "-- create a vehicle_traffic history table for our one targetted zip code\n-- seeding with 12000\n-- to do - incorate high/low season\n-- the  result will be a table with one record per day and traffic info\n-- this table will get joined back to weather data and will have our history\n\nUSE ROLE ACCOUNTADMIN;\nSET  avg_visits_seed = 12000;\n--- create traffic off weather table\nCREATE or replace TABLE SNOWDEV.RAW.VEHICLE_TRAFFIC AS  \nSELECT \n    date_valid_std AS TRAFFIC_DATE,\n    '33163' as ZIP,\n    $avg_visits_seed as average_visits_seed\n\n    /*\n    ,    \n     CASE \n        WHEN EXTRACT(MONTH, date_valid_std) = 1 THEN 1\n        WHEN EXTRACT(MONTH, date_valid_std) = 2 THEN 1\n        WHEN EXTRACT(MONTH, date_valid_std) = 3 THEN 1\n        WHEN EXTRACT(MONTH, date_valid_std) = 4 THEN 1\n        WHEN EXTRACT(MONTH, date_valid_std) = 5 THEN 1\n        WHEN EXTRACT(MONTH, date_valid_std) = 6 THEN 1\n        WHEN EXTRACT(MONTH, date_valid_std) = 7 THEN 1\n        WHEN EXTRACT(MONTH, date_valid_std) = 8 THEN 1\n        WHEN EXTRACT(MONTH, date_valid_std) = 9 THEN 1\n        WHEN EXTRACT(MONTH, date_valid_std) = 10 THEN 1\n        WHEN EXTRACT(MONTH, date_valid_std) = 11 THEN 1\n        WHEN EXTRACT(MONTH, date_valid_std) = 12 THEN 1\n    END AS month_high_low_adjust\n   */\n    \n    from GLOBAL_WEATHER__CLIMATE_DATA_FOR_BI.STANDARD_TILE.HISTORY_DAY where postal_code = '33163'  ;\n \n",
   "execution_count": null,
   "outputs": []
  },
  {
   "cell_type": "code",
   "id": "52911202-b951-4900-89fd-90b8744ffaaa",
   "metadata": {
    "language": "sql",
    "name": "GET_COUNTS",
    "resultHeight": 147,
    "collapsed": false
   },
   "outputs": [],
   "source": "-- see records counts, should match\nSELECT COUNT(*) as count, 'WEATHER' as table_name FROM SNOWDEV.RAW.WEATHER union \nSELECT COUNT(*), 'TRAFFIC' as table_name FROM  SNOWDEV.RAW.VEHICLE_TRAFFIC;",
   "execution_count": null
  },
  {
   "cell_type": "code",
   "id": "f56263bf-8485-45c8-b09c-004d16539f53",
   "metadata": {
    "language": "sql",
    "name": "PREVIEW_TRAFFIC",
    "collapsed": false,
    "resultHeight": 252
   },
   "outputs": [],
   "source": "-- preview traffic data\nselect * from SNOWDEV.RAW.VEHICLE_TRAFFIC limit 5;",
   "execution_count": null
  },
  {
   "cell_type": "code",
   "id": "08a9a3dc-1abb-42ff-8a2f-358ef51e0ae1",
   "metadata": {
    "language": "sql",
    "name": "PREVIEW_WEATHER",
    "resultHeight": 252,
    "collapsed": false
   },
   "outputs": [],
   "source": "-- preview weather data\nselect * from SNOWDEV.RAW.WEATHER limit 5;",
   "execution_count": null
  },
  {
   "cell_type": "code",
   "id": "3b735ba3-32cd-4d35-8502-e6af83614312",
   "metadata": {
    "language": "sql",
    "name": "CREATE_TRAFFIC_WEATHER_VIEW_W_ADJUSTMENTS",
    "collapsed": false,
    "resultHeight": 112
   },
   "outputs": [],
   "source": "-- Create a view that joins weather and traffic\n-- case statements are used to adjust the visits number\n-- so as weather changes (ex high precipitation) visits go down\n\nCREATE or replace VIEW SNOWDEV.RAW.TRAFFIC_WEATHER_VW AS\nSELECT \n\n    POSTAL_CODE, \n    MAX_TEMPERATURE_AIR_2M_F,\n    AVG_TEMPERATURE_AIR_2M_F,\n    TOT_PRECIPITATION_IN,\n    AVG_CLOUD_COVER_TOT_PCT,\n    AVERAGE_VISITS_SEED,\n    --MONTH_HIGH_LOW_ADJUST,\n    CASE \n            WHEN TOT_PRECIPITATION_IN > 4 THEN .2  \n            WHEN TOT_PRECIPITATION_IN > 3 THEN .4  \n            WHEN TOT_PRECIPITATION_IN > 2 THEN .6  \n            WHEN TOT_PRECIPITATION_IN > 1 THEN .8  \n            ELSE  1.2          \n    END AS PRECIPITATION_ADJUST,\n    CASE \n            WHEN MAX_TEMPERATURE_AIR_2M_F > 90 THEN .9\n            ELSE  1.1            \n    END AS MAX_TEMPERATURE_ADJUST,\n    CASE \n            WHEN AVG_TEMPERATURE_AIR_2M_F > 85 THEN 1.1\n            WHEN AVG_TEMPERATURE_AIR_2M_F > 80 THEN .9\n            WHEN AVG_TEMPERATURE_AIR_2M_F > 70 THEN .75\n            ELSE .7\n    END AS AVG_TEMPERATURE_AIR_2M_F_ADJUST,\n    uniform(-50, 51, random()) AS RANDOM_ADJUSTMENT,\nROUND((AVERAGE_VISITS_SEED  * PRECIPITATION_ADJUST * MAX_TEMPERATURE_ADJUST * AVG_TEMPERATURE_AIR_2M_F_ADJUST) + RANDOM_ADJUSTMENT) as VISITS,\n\n   \n   -- ROUND((AVERAGE_VISITS_SEED * MONTH_HIGH_LOW_ADJUST * PRECIPITATION_ADJUST * MAX_TEMPERATURE_ADJUST * AVG_TEMPERATURE_AIR_2M_F_ADJUST) + RANDOM_ADJUSTMENT) as VISITS,\n   TRAFFIC_DATE\n    \nFROM \n    SNOWDEV.RAW.WEATHER WEA,\n    SNOWDEV.RAW.VEHICLE_TRAFFIC TRAF\nWHERE\n    WEA.date_valid_std=TRAF.TRAFFIC_DATE\nORDER BY \nTRAFFIC_DATE;\n",
   "execution_count": null
  },
  {
   "cell_type": "code",
   "id": "0c747c2f-fbdf-44e5-87e4-fd55326d2b8c",
   "metadata": {
    "language": "sql",
    "name": "CREATE_WEATHER_TRAFFIC_HISTORY_TABLE",
    "collapsed": false,
    "resultHeight": 112
   },
   "outputs": [],
   "source": "-- make a table of the view so you have static data that can be adjusted\n--     to support for your demo story\n-- keeping just the necessary columns to support the model, keeping it simple for now\ncreate or replace table SNOWDEV.RAW.TRAFFIC_WEATHER_HISTORY as \nselect \nTRAFFIC_DATE as date_valid_std,\nPOSTAL_CODE, \nMAX_TEMPERATURE_ADJUST * MAX_TEMPERATURE_AIR_2M_F  AS MAX_TEMPERATURE_AIR_2M_F,\nAVG_TEMPERATURE_AIR_2M_F_ADJUST * AVG_TEMPERATURE_AIR_2M_F AS AVG_TEMPERATURE_AIR_2M_F,\nPRECIPITATION_ADJUST * TOT_PRECIPITATION_IN as TOT_PRECIPITATION_IN,\nVISITS\nfrom \nSNOWDEV.RAW.TRAFFIC_WEATHER_VW ;",
   "execution_count": null
  },
  {
   "cell_type": "code",
   "id": "d04fad83-ee9a-43d5-bb8e-5b918490a2ba",
   "metadata": {
    "language": "sql",
    "name": "GET_DATE_RANGES",
    "resultHeight": 112,
    "collapsed": false
   },
   "outputs": [],
   "source": "select min(date_valid_std), max(date_valid_std) from SNOWDEV.RAW.TRAFFIC_WEATHER_HISTORY",
   "execution_count": null
  },
  {
   "cell_type": "markdown",
   "id": "62b568d7-9137-4e8f-b0a8-42913b2c4075",
   "metadata": {
    "name": "cell10",
    "collapsed": false,
    "resultHeight": 140
   },
   "source": "**Generate Forecast/Future Data**\n\n- A this point we have historical traffic data from 12/9/22 - 12/8/24\n- Depending on when above statement were run you'll likely get different dates ranges\n- Next step will be to get the weather forecast which will be the input for generating forecasted visits"
  },
  {
   "cell_type": "code",
   "id": "5480a322-2de0-4cb5-92ba-b5a2dd1669f2",
   "metadata": {
    "language": "sql",
    "name": "PREVIEW_WEATHER_FORECAST_TABLE",
    "resultHeight": 439,
    "collapsed": false
   },
   "outputs": [],
   "source": "-- the forecast has 15 rows of future forecast data, one row per date for my zipcode\nselect * from GLOBAL_WEATHER__CLIMATE_DATA_FOR_BI.STANDARD_TILE.FORECAST_DAY where postal_code = '33163';\n",
   "execution_count": null
  },
  {
   "cell_type": "code",
   "id": "8c4619c4-2ce2-4fd3-bb80-fb226c3c96e5",
   "metadata": {
    "language": "sql",
    "name": "CREATE_WEATHER_FORECAST_TABLE",
    "collapsed": false,
    "resultHeight": 112
   },
   "outputs": [],
   "source": "-- create  a table so you have static data that can be adjusted\n--     to support for your demo story\n-- note to keep it simple I am only including the same columns that are in my history table\ncreate or replace  table SNOWDEV.RAW.WEATHER_FORECAST AS \nselect date_valid_std, postal_code, MAX_TEMPERATURE_AIR_2M_F, AVG_TEMPERATURE_AIR_2M_F, TOT_PRECIPITATION_IN from GLOBAL_WEATHER__CLIMATE_DATA_FOR_BI.STANDARD_TILE.FORECAST_DAY where postal_code = '33163';",
   "execution_count": null
  },
  {
   "cell_type": "code",
   "id": "e0df1fef-6c8f-4824-9157-f9c1003943d9",
   "metadata": {
    "language": "sql",
    "name": "UPDATE_FORECAST_RECORDS",
    "collapsed": false,
    "resultHeight": 112
   },
   "outputs": [],
   "source": "-- modify a couple dates to make it easy to verify we are getting expected results\n--   you will likely need to modify the dates on lines 9 and 17 depending on when you running this\n-- cold weather with precipitation should yield low visits\n UPDATE \nSNOWDEV.RAW.WEATHER_FORECAST SET \nMAX_TEMPERATURE_AIR_2M_F = 65,\nAVG_TEMPERATURE_AIR_2M_F = 59,\nTOT_PRECIPITATION_IN = 3.1\nWHERE DATE_VALID_STD =   '2024-12-16' ;\n\n-- precipitation has lesseend and it's getting a bit warmer\n UPDATE \nSNOWDEV.RAW.WEATHER_FORECAST SET \nMAX_TEMPERATURE_AIR_2M_F = 69,\nAVG_TEMPERATURE_AIR_2M_F = 64,\nTOT_PRECIPITATION_IN = 1.5\nWHERE DATE_VALID_STD =   '2024-12-17' ;",
   "execution_count": null
  },
  {
   "cell_type": "markdown",
   "id": "856a9b31-f13a-4d2f-a815-779ef4a8ff09",
   "metadata": {
    "name": "cell15",
    "collapsed": false,
    "resultHeight": 630
   },
   "source": "**Generate Forecast Model**\n\nIn Snowsight - AI & ML Studio > Forecasting\n\nName = visit_traffic_forecasting_weather_data\n\n\n1. XS_WAREHOUSE\n2. Training data\n    SNOWDEV.RAW.TRAFFIC_WEATHER_HISTORY\n3. Target Column\n    The column we want to predict > #visits\n4. Select Timestamp column from training data\n    DATE_VALID_STD (it's a date not timestamp)\n5. Select a series identifier from your training data\n   POSTAL_CODE\n6. Use additional features \n- I selected ALL\n- the gist is these are the columns will help with prediction\n\tMAX_TEMPERATURE_AIR_2M_F, \n\tAVG_TEMPERATURE_AIR_2M_F, \n\tTOTAL_PRECIPITATION_IN\n7. Select your prediction data\n    SNOWDEV.RAW.WEATHER_FORECAST\n8. Select Timestamp column\n    DATE_VALID_STD\n9. Select a series Identifier\n\tSelected POSTAL_CODE\n10. Configure predictions\n\t\n    \nTook defaults\nTable name = My_forecasts_2024_12_09\n\nA worksheet was generated, below is what was in the worksheet\n"
  },
  {
   "cell_type": "markdown",
   "id": "e0a5c9b6-8046-43e4-b831-cb4370e1f22b",
   "metadata": {
    "name": "cell23",
    "collapsed": false,
    "resultHeight": 41
   },
   "source": "**Model Setup**"
  },
  {
   "cell_type": "code",
   "id": "65abc824-806a-4e73-85d6-0821f48cd202",
   "metadata": {
    "language": "sql",
    "name": "ML_ENV_SETUP",
    "collapsed": false,
    "resultHeight": 112
   },
   "outputs": [],
   "source": "use role ACCOUNTADMIN;\n--use warehouse XS_WAREHOUSE;\nuse warehouse LARGE_WAREHOUSE;\nuse database SNOWDEV;\nuse schema RAW;",
   "execution_count": null
  },
  {
   "cell_type": "code",
   "id": "bae00f11-0a56-42ee-946e-5851e0b56054",
   "metadata": {
    "language": "sql",
    "name": "PREVIEW_HISTORY_TRAINING_DATA",
    "collapsed": false,
    "resultHeight": 427
   },
   "outputs": [],
   "source": "-- Inspect the first 10 rows of your training data. This is the data we'll use to create your model.\nselect * from TRAFFIC_WEATHER_HISTORY limit 10;",
   "execution_count": null
  },
  {
   "cell_type": "code",
   "id": "394775e8-1a09-4142-9ef5-23e6a5ed9f48",
   "metadata": {
    "language": "sql",
    "name": "PREPARE_TRAINING_DATA",
    "collapsed": false,
    "resultHeight": 112
   },
   "outputs": [],
   "source": "-- Prepare your training data. Timestamp_ntz is a required format.\nCREATE or replace VIEW TRAFFIC_WEATHER_HISTORY_v1 AS SELECT\n    * EXCLUDE DATE_VALID_STD,\n    to_timestamp_ntz(DATE_VALID_STD) as DATE_VALID_STD_v1\nFROM TRAFFIC_WEATHER_HISTORY;",
   "execution_count": null
  },
  {
   "cell_type": "code",
   "id": "fc512763-36bc-4d96-ba32-2618843ee8f6",
   "metadata": {
    "language": "sql",
    "name": "PREPARE_FORECAST_DATA",
    "collapsed": false,
    "resultHeight": 112
   },
   "outputs": [],
   "source": "-- Prepare your prediction data. Timestamp_ntz is a required format.\nCREATE or replace VIEW WEATHER_FORECAST_v1 AS SELECT\n    * EXCLUDE DATE_VALID_STD,\n    to_timestamp_ntz(DATE_VALID_STD) as DATE_VALID_STD_v1\nFROM WEATHER_FORECAST;",
   "execution_count": null
  },
  {
   "cell_type": "markdown",
   "id": "6758e17c-0460-47e0-bcf3-8cc3f4619e03",
   "metadata": {
    "name": "cell20",
    "collapsed": false,
    "resultHeight": 41
   },
   "source": " \n**Create Predictions**\n"
  },
  {
   "cell_type": "code",
   "id": "18010190-4387-4abd-a43f-55833166bb20",
   "metadata": {
    "language": "sql",
    "name": "CREATE_MODEL",
    "collapsed": false,
    "resultHeight": 112
   },
   "outputs": [],
   "source": "-- Create your model.\nCREATE or replace SNOWFLAKE.ML.FORECAST visit_traffic_forecasting_weather_data(\n    INPUT_DATA => SYSTEM$REFERENCE('VIEW', 'TRAFFIC_WEATHER_HISTORY_v1'),\n    SERIES_COLNAME => 'POSTAL_CODE',\n    TIMESTAMP_COLNAME => 'DATE_VALID_STD_v1',\n    TARGET_COLNAME => 'VISITS',\n    CONFIG_OBJECT => { 'ON_ERROR': 'SKIP' }\n);\n",
   "execution_count": null
  },
  {
   "cell_type": "code",
   "id": "01c73f79-4253-4c33-be48-9b83077283a9",
   "metadata": {
    "language": "sql",
    "name": "LIST_MODELS",
    "resultHeight": 147,
    "collapsed": false
   },
   "outputs": [],
   "source": "show snowflake.ml.forecast in database snowdev;\n\n\n\n-- list models and version alternate approach\n-- use database snowdev;\n-- use schema raw;\n-- SHOW SNOWFLAKE.ML.FORECAST; ",
   "execution_count": null
  },
  {
   "cell_type": "code",
   "id": "ec68f136-c699-4357-bb4b-81e98cd3bd9a",
   "metadata": {
    "language": "sql",
    "name": "CREATE_FORECAST_DATA",
    "collapsed": false,
    "resultHeight": 112
   },
   "outputs": [],
   "source": "  CREATE  OR REPLACE TABLE My_forecasts_2024_12_09 AS SELECT * FROM \n      TABLE(visit_traffic_forecasting_weather_data!FORECAST(\n        INPUT_DATA => SYSTEM$REFERENCE('VIEW', 'WEATHER_FORECAST_v1'),\n        SERIES_COLNAME => 'POSTAL_CODE',\n        TIMESTAMP_COLNAME => 'DATE_VALID_STD_v1',\n        CONFIG_OBJECT => {'prediction_interval': 0.95}\n    ));",
   "execution_count": null
  },
  {
   "cell_type": "code",
   "id": "70bc7bec-3c21-47a9-8cac-70d4844b21c6",
   "metadata": {
    "language": "sql",
    "name": "cell22",
    "collapsed": false,
    "resultHeight": 0
   },
   "outputs": [],
   "source": "-- Unable to get this to run in notebook, need to investigate\n-- Generate predictions and store the results to a table.\n-- replaced by above CTAS approach\n\n/*\nBEGIN\n    -- This is the step that creates your predictions.\n    CALL visit_traffic_forecasting_weather_data!FORECAST(\n        INPUT_DATA => SYSTEM$REFERENCE('VIEW', 'WEATHER_FORECAST_v1'),\n        SERIES_COLNAME => 'POSTAL_CODE',\n        TIMESTAMP_COLNAME => 'DATE_VALID_STD_v1',\n        -- Here we set your prediction interval.\n        CONFIG_OBJECT => {'prediction_interval': 0.95}\n    );\n    -- These steps store your predictions to a table.\n    LET x := SQLID;\n    CREATE   TABLE My_forecasts_2024_12_09 AS SELECT * FROM TABLE(RESULT_SCAN(:x));\nEND;\n*/",
   "execution_count": null
  },
  {
   "cell_type": "markdown",
   "id": "0c4fc315-d9f7-472d-8fff-e71a28334cbd",
   "metadata": {
    "name": "cell2",
    "collapsed": false,
    "resultHeight": 41
   },
   "source": "**Review Prediction Output**"
  },
  {
   "cell_type": "code",
   "id": "11a172a6-1e36-4827-9e1b-03cac87d629f",
   "metadata": {
    "language": "sql",
    "name": "VIEW_FORECAST_DATA",
    "resultHeight": 439,
    "collapsed": false
   },
   "outputs": [],
   "source": "-- view predictions\n-- NOTE 2024-12-16 has low forecast due to precipitation\n-- NOTE 2024-12-17 has higher forecast than prior day, weathe is improving\n\nSELECT * FROM My_forecasts_2024_12_09;\n",
   "execution_count": null
  },
  {
   "cell_type": "code",
   "id": "c6672940-0bd4-406e-810c-52207c3207bf",
   "metadata": {
    "language": "sql",
    "name": "RESIZE_WAREHOUSE",
    "collapsed": false,
    "resultHeight": 112
   },
   "outputs": [],
   "source": "use warehouse xs_warehouse;",
   "execution_count": null
  },
  {
   "cell_type": "code",
   "id": "5ca455f8-9c99-4096-8196-3fbd9059efae",
   "metadata": {
    "language": "sql",
    "name": "VIEW_FORECAST_AND_ACTUAL",
    "resultHeight": 439,
    "collapsed": false
   },
   "outputs": [],
   "source": "-- Review Historical and Prediction Data\n--\nSELECT POSTAL_CODE, DATE_VALID_STD, VISITS AS actual, NULL AS forecast, NULL AS lower_bound, NULL AS upper_bound\n    FROM TRAFFIC_WEATHER_HISTORY\nUNION ALL\nSELECT replace(series, '\"', '') as POSTAL_CODE, ts as DATE_VALID_STD, NULL AS actual, forecast, lower_bound, upper_bound\n    FROM My_forecasts_2024_12_09\n    ORDER BY DATE_VALID_STD DESC;",
   "execution_count": null
  },
  {
   "cell_type": "markdown",
   "id": "2e31f081-8c83-4831-9347-81a20c670827",
   "metadata": {
    "name": "cell27",
    "collapsed": false,
    "resultHeight": 41
   },
   "source": "**Inspect Model Results**"
  },
  {
   "cell_type": "code",
   "id": "40db0634-d868-45ed-b8f4-3822d7ea6fe5",
   "metadata": {
    "language": "sql",
    "name": "SHOW_EVALUATION_METRICS",
    "collapsed": false,
    "resultHeight": 322
   },
   "outputs": [],
   "source": "-- Inspect the accuracy metrics of your model. \nCALL visit_traffic_forecasting_weather_data!SHOW_EVALUATION_METRICS();",
   "execution_count": null
  },
  {
   "cell_type": "code",
   "id": "88d02a4d-8bc4-41ae-9496-52ffd94979eb",
   "metadata": {
    "language": "sql",
    "name": "EXPLAIN_FEATURE_IMPORTANCE",
    "collapsed": false,
    "resultHeight": 182
   },
   "outputs": [],
   "source": "-- Inspect the relative importance of your features, including auto-generated features. \nCALL visit_traffic_forecasting_weather_data!EXPLAIN_FEATURE_IMPORTANCE();",
   "execution_count": null
  }
 ]
}